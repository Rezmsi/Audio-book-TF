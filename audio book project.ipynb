{
 "cells": [
  {
   "cell_type": "code",
   "execution_count": 2,
   "id": "0f411b92",
   "metadata": {},
   "outputs": [],
   "source": [
    "import numpy as np\n",
    "import tensorflow as tf\n",
    "from sklearn import preprocessing"
   ]
  },
  {
   "cell_type": "code",
   "execution_count": 3,
   "id": "0d7ee354",
   "metadata": {},
   "outputs": [
    {
     "data": {
      "text/plain": [
       "array([[9.9400e+02, 1.6200e+03, 1.6200e+03, ..., 5.0000e+00, 9.2000e+01,\n",
       "        0.0000e+00],\n",
       "       [1.1430e+03, 2.1600e+03, 2.1600e+03, ..., 0.0000e+00, 0.0000e+00,\n",
       "        0.0000e+00],\n",
       "       [2.0590e+03, 2.1600e+03, 2.1600e+03, ..., 0.0000e+00, 3.8800e+02,\n",
       "        0.0000e+00],\n",
       "       ...,\n",
       "       [3.1134e+04, 2.1600e+03, 2.1600e+03, ..., 0.0000e+00, 0.0000e+00,\n",
       "        0.0000e+00],\n",
       "       [3.2832e+04, 1.6200e+03, 1.6200e+03, ..., 0.0000e+00, 9.0000e+01,\n",
       "        0.0000e+00],\n",
       "       [2.5100e+02, 1.6740e+03, 3.3480e+03, ..., 0.0000e+00, 0.0000e+00,\n",
       "        1.0000e+00]])"
      ]
     },
     "execution_count": 3,
     "metadata": {},
     "output_type": "execute_result"
    }
   ],
   "source": [
    "rawData = np.loadtxt('33_Audiobooks_data_Without_Headers.csv' , delimiter=',')\n",
    "rawData"
   ]
  },
  {
   "cell_type": "code",
   "execution_count": 4,
   "id": "614e691b",
   "metadata": {},
   "outputs": [],
   "source": [
    "rawInputs = rawData[ : , 1:-1 ] #از ستون 1 تا یکی مونده به اخر\n",
    "rawTargets = rawData[ : , -1]#فقط ستون اخر"
   ]
  },
  {
   "cell_type": "markdown",
   "id": "001acd24",
   "metadata": {},
   "source": [
    "## Balance the dataset"
   ]
  },
  {
   "cell_type": "code",
   "execution_count": 5,
   "id": "65205180",
   "metadata": {},
   "outputs": [
    {
     "name": "stdout",
     "output_type": "stream",
     "text": [
      "2237 11847\n"
     ]
    }
   ],
   "source": [
    "numberOfOneTargets = int(np.sum(rawTargets))\n",
    "numberOfZeroTargets = int( rawTargets.shape[0] - np.sum(rawTargets))\n",
    "print( numberOfOneTargets , numberOfZeroTargets )"
   ]
  },
  {
   "cell_type": "code",
   "execution_count": 6,
   "id": "ee461fe2",
   "metadata": {},
   "outputs": [
    {
     "name": "stdout",
     "output_type": "stream",
     "text": [
      "zeros are : 11847 and we should remove 9610 indexes to balancing dataset\n"
     ]
    }
   ],
   "source": [
    "indexesToRemove = []\n",
    "numberOfZeroTargets = 0\n",
    "\n",
    "for i in range(rawTargets.shape[0]):\n",
    "    if ( rawTargets[i] == 0):\n",
    "        numberOfZeroTargets +=1\n",
    "        if( numberOfZeroTargets > numberOfOneTargets):\n",
    "            indexesToRemove.append(i)\n",
    "            \n",
    "print( 'zeros are : %s and we should remove %s indexes to balancing dataset'\n",
    "      %(numberOfZeroTargets,len(indexesToRemove)))"
   ]
  },
  {
   "cell_type": "code",
   "execution_count": 7,
   "id": "1baf7dd2",
   "metadata": {},
   "outputs": [],
   "source": [
    "rawBalancedInputs = np.delete( rawInputs, indexesToRemove, axis=0)\n",
    "rawBalancedTargets = np.delete( rawTargets , indexesToRemove , axis = 0 )"
   ]
  },
  {
   "cell_type": "code",
   "execution_count": 8,
   "id": "582fba0a",
   "metadata": {},
   "outputs": [
    {
     "name": "stdout",
     "output_type": "stream",
     "text": [
      "number of balanced inputs are : 4474 and number of targets are : 4474\n"
     ]
    }
   ],
   "source": [
    "print( 'number of balanced inputs are : %s and number of targets are : %s'\n",
    "      %( len(rawBalancedInputs) , len(rawBalancedTargets) ) )"
   ]
  },
  {
   "cell_type": "markdown",
   "id": "6f1de65f",
   "metadata": {},
   "source": [
    "## Standardize the inputs"
   ]
  },
  {
   "cell_type": "code",
   "execution_count": 9,
   "id": "8f1574eb",
   "metadata": {},
   "outputs": [],
   "source": [
    "scaledInputs = preprocessing.scale(rawBalancedInputs)"
   ]
  },
  {
   "cell_type": "markdown",
   "id": "8280e6fd",
   "metadata": {},
   "source": [
    "## Shuffle the data\n",
    "\n",
    "\n",
    "For integer arguments the function is equivalent to the Python built-in range function, but returns an ndarray rather than a list.\n",
    "\n",
    "\n",
    "\n",
    "Example: np.arange(3)\n",
    "\n",
    "\n",
    "Output: array([0, 1, 2])"
   ]
  },
  {
   "cell_type": "code",
   "execution_count": 11,
   "id": "a73b5c8b",
   "metadata": {},
   "outputs": [],
   "source": [
    "# یک ارایه از ایندکس هایی به تعداد دیتاهای استاندارد شدمون میسازیم و اونو شافل میکنیم\n",
    "# بعد از ارایه های تارگت و اینپوتمون اون اندیس های شافل شده رو برمیداریم\n",
    "\n",
    "shuffledIndex = np.arange(scaledInputs.shape[0])\n",
    "\n",
    "np.random.shuffle(shuffledIndex)\n",
    "scaledInputs\n",
    "\n",
    "shuffleInputs = scaledInputs[shuffledIndex]\n",
    "shuffleTargets = rawBalancedTargets[shuffledIndex]"
   ]
  },
  {
   "cell_type": "markdown",
   "id": "2485d68a",
   "metadata": {},
   "source": [
    "## Split the dataset into train, validation, and test\n",
    "suming we want 80-10-10 distribution of training, validation, and test."
   ]
  },
  {
   "cell_type": "code",
   "execution_count": 10,
   "id": "573967de",
   "metadata": {},
   "outputs": [
    {
     "name": "stdout",
     "output_type": "stream",
     "text": [
      "sample count is 4474 and train count is 3579 and validation count is 447 and test count is 448\n"
     ]
    }
   ],
   "source": [
    "samplesCount = shuffleInputs.shape[0]\n",
    "\n",
    "trainCount = int( 0.8 * samplesCount )\n",
    "validationCount = int( 0.1 * samplesCount )\n",
    "testCount = int( samplesCount - (trainCount + validationCount) )\n",
    "\n",
    "print( 'sample count is %s and train count is %s and validation count is %s and test count is %s'\n",
    "      % ( samplesCount, trainCount, validationCount, testCount) )"
   ]
  },
  {
   "cell_type": "code",
   "execution_count": 11,
   "id": "2ffcb880",
   "metadata": {},
   "outputs": [],
   "source": [
    "trainInputs = shuffleInputs[:trainCount]\n",
    "trainTargets = shuffleTargets[:trainCount]"
   ]
  },
  {
   "cell_type": "code",
   "execution_count": 12,
   "id": "493f9d97",
   "metadata": {},
   "outputs": [],
   "source": [
    "validationInputs = shuffleInputs[ trainCount : trainCount + validationCount ]\n",
    "validationTargets = shuffleTargets[ trainCount : trainCount + validationCount ]"
   ]
  },
  {
   "cell_type": "code",
   "execution_count": 13,
   "id": "b9a59c34",
   "metadata": {},
   "outputs": [],
   "source": [
    "testInputs = shuffleInputs[ trainCount + validationCount : ]\n",
    "testTargets = shuffleTargets[ trainCount + validationCount : ]"
   ]
  },
  {
   "cell_type": "code",
   "execution_count": 14,
   "id": "b74d40a8",
   "metadata": {},
   "outputs": [
    {
     "name": "stdout",
     "output_type": "stream",
     "text": [
      "train target of one is 1792.0 train count is 3579 and 50.1 percent is diffrent\n",
      "validation target of one is 222.0 validation count is 447 and 49.7 percent is diffrent\n",
      "test target of one is 223.0 test count is 448 and 49.8 percent is diffrent\n"
     ]
    }
   ],
   "source": [
    "print( 'train target of one is %s train count is %s and %s percent is diffrent' \n",
    "      %(np.sum(trainTargets) , trainCount , round( (np.sum(trainTargets) / trainCount)*100 ,1)) )\n",
    "\n",
    "print( 'validation target of one is %s validation count is %s and %s percent is diffrent' \n",
    "      %(np.sum(validationTargets) , validationCount , round( (np.sum(validationTargets) / validationCount)*100 ,1)) )\n",
    "\n",
    "print( 'test target of one is %s test count is %s and %s percent is diffrent' \n",
    "      %(np.sum(testTargets) , testCount , round( (np.sum(testTargets) / testCount)*100 ,1)) )"
   ]
  },
  {
   "cell_type": "code",
   "execution_count": 15,
   "id": "2b19b270",
   "metadata": {},
   "outputs": [],
   "source": [
    "np.savez('Audiobooks_data_train', inputs= trainInputs , targets= trainTargets )\n",
    "np.savez('Audiobooks_data_validation', inputs= validationInputs , targets= validationTargets )\n",
    "np.savez('Audiobooks_data_test', inputs= testInputs , targets= testTargets )"
   ]
  },
  {
   "cell_type": "markdown",
   "id": "e5604561",
   "metadata": {},
   "source": [
    "## Loading our Data from the npz files"
   ]
  },
  {
   "cell_type": "code",
   "execution_count": 16,
   "id": "9b2915e6",
   "metadata": {},
   "outputs": [
    {
     "data": {
      "text/plain": [
       "(3579, 10)"
      ]
     },
     "execution_count": 16,
     "metadata": {},
     "output_type": "execute_result"
    }
   ],
   "source": [
    "npzTrain = np.load('Audiobooks_data_train.npz')\n",
    "trainInputs = npzTrain['inputs'].astype(float)\n",
    "trainTargets = npzTrain['targets'].astype(int)\n",
    "\n",
    "trainInputs.shape"
   ]
  },
  {
   "cell_type": "markdown",
   "id": "80bb328d",
   "metadata": {},
   "source": [
    "targets must be int because of sparse_categorical_crossentropy (we want to be able to smoothly one-hot encode them)"
   ]
  },
  {
   "cell_type": "code",
   "execution_count": 17,
   "id": "41f83af1",
   "metadata": {},
   "outputs": [],
   "source": [
    "npzValid = np.load('Audiobooks_data_validation.npz')\n",
    "validInputs = npzValid['inputs'].astype(float)\n",
    "validTargets = npzValid['targets'].astype(int)"
   ]
  },
  {
   "cell_type": "code",
   "execution_count": 18,
   "id": "e4f0a885",
   "metadata": {},
   "outputs": [],
   "source": [
    "npzTest = np.load('Audiobooks_data_test.npz')\n",
    "testInputs = npzTest['inputs'].astype(float)\n",
    "testTargets = npzTest['targets'].astype(int)"
   ]
  },
  {
   "cell_type": "markdown",
   "id": "6ad2eb0e",
   "metadata": {},
   "source": [
    "### Our Model"
   ]
  },
  {
   "cell_type": "code",
   "execution_count": 19,
   "id": "b7953d4a",
   "metadata": {},
   "outputs": [],
   "source": [
    "inputsSize = 10\n",
    "outputSize = 2\n",
    "hiddenLayer = 50\n",
    "\n",
    "model = tf.keras.Sequential([\n",
    "    tf.keras.layers.Dense( hiddenLayer , activation='relu' ),\n",
    "    tf.keras.layers.Dense( hiddenLayer , activation='relu' ),\n",
    "    tf.keras.layers.Dense( outputSize , activation='softmax' )\n",
    "])"
   ]
  },
  {
   "cell_type": "code",
   "execution_count": 20,
   "id": "351db5ab",
   "metadata": {},
   "outputs": [],
   "source": [
    "model.compile(optimizer='adam', loss='sparse_categorical_crossentropy', metrics=['accuracy'])"
   ]
  },
  {
   "cell_type": "code",
   "execution_count": 21,
   "id": "1eebe236",
   "metadata": {},
   "outputs": [
    {
     "name": "stdout",
     "output_type": "stream",
     "text": [
      "Epoch 1/100\n",
      "36/36 - 1s - loss: 0.6496 - accuracy: 0.6158 - val_loss: 0.5413 - val_accuracy: 0.7562 - 738ms/epoch - 21ms/step\n",
      "Epoch 2/100\n",
      "36/36 - 0s - loss: 0.4940 - accuracy: 0.7505 - val_loss: 0.4626 - val_accuracy: 0.7293 - 63ms/epoch - 2ms/step\n",
      "Epoch 3/100\n",
      "36/36 - 0s - loss: 0.4334 - accuracy: 0.7762 - val_loss: 0.4214 - val_accuracy: 0.7763 - 61ms/epoch - 2ms/step\n",
      "Epoch 4/100\n",
      "36/36 - 0s - loss: 0.4012 - accuracy: 0.7874 - val_loss: 0.3950 - val_accuracy: 0.7763 - 61ms/epoch - 2ms/step\n",
      "Epoch 5/100\n",
      "36/36 - 0s - loss: 0.3819 - accuracy: 0.7994 - val_loss: 0.3806 - val_accuracy: 0.7987 - 67ms/epoch - 2ms/step\n",
      "Epoch 6/100\n",
      "36/36 - 0s - loss: 0.3693 - accuracy: 0.8008 - val_loss: 0.3663 - val_accuracy: 0.8143 - 60ms/epoch - 2ms/step\n",
      "Epoch 7/100\n",
      "36/36 - 0s - loss: 0.3615 - accuracy: 0.8055 - val_loss: 0.3647 - val_accuracy: 0.8031 - 64ms/epoch - 2ms/step\n",
      "Epoch 8/100\n",
      "36/36 - 0s - loss: 0.3533 - accuracy: 0.8117 - val_loss: 0.3540 - val_accuracy: 0.8121 - 61ms/epoch - 2ms/step\n",
      "Epoch 9/100\n",
      "36/36 - 0s - loss: 0.3483 - accuracy: 0.8164 - val_loss: 0.3472 - val_accuracy: 0.8345 - 62ms/epoch - 2ms/step\n",
      "Epoch 10/100\n",
      "36/36 - 0s - loss: 0.3459 - accuracy: 0.8125 - val_loss: 0.3413 - val_accuracy: 0.8143 - 62ms/epoch - 2ms/step\n",
      "Epoch 11/100\n",
      "36/36 - 0s - loss: 0.3448 - accuracy: 0.8114 - val_loss: 0.3464 - val_accuracy: 0.8031 - 60ms/epoch - 2ms/step\n",
      "Epoch 12/100\n",
      "36/36 - 0s - loss: 0.3394 - accuracy: 0.8164 - val_loss: 0.3373 - val_accuracy: 0.8345 - 66ms/epoch - 2ms/step\n",
      "Epoch 13/100\n",
      "36/36 - 0s - loss: 0.3381 - accuracy: 0.8142 - val_loss: 0.3464 - val_accuracy: 0.8054 - 61ms/epoch - 2ms/step\n",
      "Epoch 14/100\n",
      "36/36 - 0s - loss: 0.3405 - accuracy: 0.8094 - val_loss: 0.3317 - val_accuracy: 0.8389 - 61ms/epoch - 2ms/step\n",
      "Epoch 15/100\n",
      "36/36 - 0s - loss: 0.3336 - accuracy: 0.8184 - val_loss: 0.3349 - val_accuracy: 0.8143 - 63ms/epoch - 2ms/step\n",
      "Epoch 16/100\n",
      "36/36 - 0s - loss: 0.3306 - accuracy: 0.8234 - val_loss: 0.3297 - val_accuracy: 0.8367 - 61ms/epoch - 2ms/step\n",
      "Epoch 17/100\n",
      "36/36 - 0s - loss: 0.3300 - accuracy: 0.8187 - val_loss: 0.3326 - val_accuracy: 0.8076 - 62ms/epoch - 2ms/step\n",
      "Epoch 18/100\n",
      "36/36 - 0s - loss: 0.3284 - accuracy: 0.8192 - val_loss: 0.3299 - val_accuracy: 0.8054 - 56ms/epoch - 2ms/step\n",
      "Epoch 19/100\n",
      "36/36 - 0s - loss: 0.3278 - accuracy: 0.8187 - val_loss: 0.3243 - val_accuracy: 0.8322 - 55ms/epoch - 2ms/step\n",
      "Epoch 20/100\n",
      "36/36 - 0s - loss: 0.3278 - accuracy: 0.8159 - val_loss: 0.3414 - val_accuracy: 0.7964 - 56ms/epoch - 2ms/step\n",
      "Epoch 21/100\n",
      "36/36 - 0s - loss: 0.3288 - accuracy: 0.8220 - val_loss: 0.3281 - val_accuracy: 0.8009 - 56ms/epoch - 2ms/step\n",
      "Epoch 22/100\n",
      "36/36 - 0s - loss: 0.3267 - accuracy: 0.8178 - val_loss: 0.3228 - val_accuracy: 0.8367 - 58ms/epoch - 2ms/step\n",
      "Epoch 23/100\n",
      "36/36 - 0s - loss: 0.3234 - accuracy: 0.8229 - val_loss: 0.3323 - val_accuracy: 0.8054 - 62ms/epoch - 2ms/step\n",
      "Epoch 24/100\n",
      "36/36 - 0s - loss: 0.3240 - accuracy: 0.8237 - val_loss: 0.3232 - val_accuracy: 0.8121 - 62ms/epoch - 2ms/step\n",
      "Epoch 25/100\n",
      "36/36 - 0s - loss: 0.3225 - accuracy: 0.8265 - val_loss: 0.3243 - val_accuracy: 0.8367 - 61ms/epoch - 2ms/step\n",
      "Epoch 26/100\n",
      "36/36 - 0s - loss: 0.3201 - accuracy: 0.8296 - val_loss: 0.3195 - val_accuracy: 0.8434 - 61ms/epoch - 2ms/step\n",
      "Epoch 27/100\n",
      "36/36 - 0s - loss: 0.3234 - accuracy: 0.8243 - val_loss: 0.3235 - val_accuracy: 0.8367 - 60ms/epoch - 2ms/step\n",
      "Epoch 28/100\n",
      "36/36 - 0s - loss: 0.3200 - accuracy: 0.8259 - val_loss: 0.3167 - val_accuracy: 0.8389 - 61ms/epoch - 2ms/step\n",
      "Epoch 29/100\n",
      "36/36 - 0s - loss: 0.3200 - accuracy: 0.8268 - val_loss: 0.3235 - val_accuracy: 0.8076 - 64ms/epoch - 2ms/step\n",
      "Epoch 30/100\n",
      "36/36 - 0s - loss: 0.3205 - accuracy: 0.8256 - val_loss: 0.3180 - val_accuracy: 0.8300 - 64ms/epoch - 2ms/step\n",
      "Epoch 31/100\n",
      "36/36 - 0s - loss: 0.3215 - accuracy: 0.8251 - val_loss: 0.3184 - val_accuracy: 0.8300 - 62ms/epoch - 2ms/step\n",
      "Epoch 32/100\n",
      "36/36 - 0s - loss: 0.3184 - accuracy: 0.8312 - val_loss: 0.3188 - val_accuracy: 0.8098 - 66ms/epoch - 2ms/step\n",
      "Epoch 33/100\n",
      "36/36 - 0s - loss: 0.3178 - accuracy: 0.8256 - val_loss: 0.3352 - val_accuracy: 0.8076 - 60ms/epoch - 2ms/step\n",
      "Epoch 34/100\n",
      "36/36 - 0s - loss: 0.3159 - accuracy: 0.8254 - val_loss: 0.3149 - val_accuracy: 0.8412 - 61ms/epoch - 2ms/step\n",
      "Epoch 35/100\n",
      "36/36 - 0s - loss: 0.3149 - accuracy: 0.8310 - val_loss: 0.3241 - val_accuracy: 0.8076 - 60ms/epoch - 2ms/step\n",
      "Epoch 36/100\n",
      "36/36 - 0s - loss: 0.3175 - accuracy: 0.8201 - val_loss: 0.3209 - val_accuracy: 0.8031 - 60ms/epoch - 2ms/step\n",
      "Epoch 37/100\n",
      "36/36 - 0s - loss: 0.3179 - accuracy: 0.8284 - val_loss: 0.3285 - val_accuracy: 0.8076 - 60ms/epoch - 2ms/step\n",
      "Epoch 38/100\n",
      "36/36 - 0s - loss: 0.3150 - accuracy: 0.8262 - val_loss: 0.3228 - val_accuracy: 0.8098 - 61ms/epoch - 2ms/step\n",
      "Epoch 39/100\n",
      "36/36 - 0s - loss: 0.3136 - accuracy: 0.8307 - val_loss: 0.3179 - val_accuracy: 0.8098 - 62ms/epoch - 2ms/step\n",
      "Epoch 40/100\n",
      "36/36 - 0s - loss: 0.3165 - accuracy: 0.8296 - val_loss: 0.3144 - val_accuracy: 0.8367 - 60ms/epoch - 2ms/step\n",
      "Epoch 41/100\n",
      "36/36 - 0s - loss: 0.3157 - accuracy: 0.8287 - val_loss: 0.3271 - val_accuracy: 0.8143 - 61ms/epoch - 2ms/step\n",
      "Epoch 42/100\n",
      "36/36 - 0s - loss: 0.3151 - accuracy: 0.8270 - val_loss: 0.3231 - val_accuracy: 0.8054 - 63ms/epoch - 2ms/step\n",
      "Epoch 43/100\n",
      "36/36 - 0s - loss: 0.3152 - accuracy: 0.8284 - val_loss: 0.3199 - val_accuracy: 0.8031 - 62ms/epoch - 2ms/step\n",
      "Epoch 44/100\n",
      "36/36 - 0s - loss: 0.3148 - accuracy: 0.8296 - val_loss: 0.3238 - val_accuracy: 0.8121 - 61ms/epoch - 2ms/step\n",
      "Epoch 45/100\n",
      "36/36 - 0s - loss: 0.3141 - accuracy: 0.8254 - val_loss: 0.3211 - val_accuracy: 0.8143 - 60ms/epoch - 2ms/step\n",
      "Epoch 46/100\n",
      "36/36 - 0s - loss: 0.3141 - accuracy: 0.8254 - val_loss: 0.3177 - val_accuracy: 0.8188 - 64ms/epoch - 2ms/step\n",
      "Epoch 47/100\n",
      "36/36 - 0s - loss: 0.3139 - accuracy: 0.8304 - val_loss: 0.3152 - val_accuracy: 0.8255 - 67ms/epoch - 2ms/step\n",
      "Epoch 48/100\n",
      "36/36 - 0s - loss: 0.3130 - accuracy: 0.8301 - val_loss: 0.3257 - val_accuracy: 0.8054 - 61ms/epoch - 2ms/step\n",
      "Epoch 49/100\n",
      "36/36 - 0s - loss: 0.3123 - accuracy: 0.8245 - val_loss: 0.3165 - val_accuracy: 0.8389 - 59ms/epoch - 2ms/step\n",
      "Epoch 50/100\n",
      "36/36 - 0s - loss: 0.3174 - accuracy: 0.8231 - val_loss: 0.3214 - val_accuracy: 0.8076 - 54ms/epoch - 1ms/step\n",
      "Epoch 51/100\n",
      "36/36 - 0s - loss: 0.3144 - accuracy: 0.8254 - val_loss: 0.3251 - val_accuracy: 0.8076 - 55ms/epoch - 2ms/step\n",
      "Epoch 52/100\n",
      "36/36 - 0s - loss: 0.3118 - accuracy: 0.8276 - val_loss: 0.3310 - val_accuracy: 0.8121 - 56ms/epoch - 2ms/step\n",
      "Epoch 53/100\n",
      "36/36 - 0s - loss: 0.3124 - accuracy: 0.8332 - val_loss: 0.3409 - val_accuracy: 0.8031 - 55ms/epoch - 2ms/step\n",
      "Epoch 54/100\n",
      "36/36 - 0s - loss: 0.3157 - accuracy: 0.8217 - val_loss: 0.3154 - val_accuracy: 0.8300 - 54ms/epoch - 1ms/step\n",
      "Epoch 55/100\n",
      "36/36 - 0s - loss: 0.3147 - accuracy: 0.8287 - val_loss: 0.3137 - val_accuracy: 0.8300 - 61ms/epoch - 2ms/step\n",
      "Epoch 56/100\n",
      "36/36 - 0s - loss: 0.3098 - accuracy: 0.8298 - val_loss: 0.3235 - val_accuracy: 0.7987 - 62ms/epoch - 2ms/step\n",
      "Epoch 57/100\n",
      "36/36 - 0s - loss: 0.3126 - accuracy: 0.8265 - val_loss: 0.3141 - val_accuracy: 0.8322 - 65ms/epoch - 2ms/step\n",
      "Epoch 58/100\n",
      "36/36 - 0s - loss: 0.3112 - accuracy: 0.8312 - val_loss: 0.3193 - val_accuracy: 0.8054 - 64ms/epoch - 2ms/step\n",
      "Epoch 59/100\n",
      "36/36 - 0s - loss: 0.3133 - accuracy: 0.8237 - val_loss: 0.3205 - val_accuracy: 0.8031 - 65ms/epoch - 2ms/step\n",
      "Epoch 60/100\n",
      "36/36 - 0s - loss: 0.3099 - accuracy: 0.8329 - val_loss: 0.3313 - val_accuracy: 0.8054 - 63ms/epoch - 2ms/step\n",
      "Epoch 61/100\n",
      "36/36 - 0s - loss: 0.3119 - accuracy: 0.8268 - val_loss: 0.3139 - val_accuracy: 0.8210 - 62ms/epoch - 2ms/step\n",
      "Epoch 62/100\n",
      "36/36 - 0s - loss: 0.3126 - accuracy: 0.8293 - val_loss: 0.3121 - val_accuracy: 0.8188 - 65ms/epoch - 2ms/step\n",
      "Epoch 63/100\n",
      "36/36 - 0s - loss: 0.3089 - accuracy: 0.8293 - val_loss: 0.3134 - val_accuracy: 0.8076 - 67ms/epoch - 2ms/step\n",
      "Epoch 64/100\n",
      "36/36 - 0s - loss: 0.3086 - accuracy: 0.8259 - val_loss: 0.3113 - val_accuracy: 0.8412 - 69ms/epoch - 2ms/step\n",
      "Epoch 65/100\n",
      "36/36 - 0s - loss: 0.3105 - accuracy: 0.8290 - val_loss: 0.3157 - val_accuracy: 0.7987 - 62ms/epoch - 2ms/step\n",
      "Epoch 66/100\n",
      "36/36 - 0s - loss: 0.3111 - accuracy: 0.8290 - val_loss: 0.3310 - val_accuracy: 0.8076 - 58ms/epoch - 2ms/step\n",
      "Epoch 67/100\n",
      "36/36 - 0s - loss: 0.3124 - accuracy: 0.8248 - val_loss: 0.3242 - val_accuracy: 0.8098 - 59ms/epoch - 2ms/step\n"
     ]
    },
    {
     "name": "stdout",
     "output_type": "stream",
     "text": [
      "Epoch 68/100\n",
      "36/36 - 0s - loss: 0.3108 - accuracy: 0.8259 - val_loss: 0.3329 - val_accuracy: 0.8054 - 61ms/epoch - 2ms/step\n",
      "Epoch 69/100\n",
      "36/36 - 0s - loss: 0.3106 - accuracy: 0.8326 - val_loss: 0.3115 - val_accuracy: 0.8054 - 61ms/epoch - 2ms/step\n",
      "Epoch 70/100\n",
      "36/36 - 0s - loss: 0.3106 - accuracy: 0.8262 - val_loss: 0.3150 - val_accuracy: 0.8345 - 61ms/epoch - 2ms/step\n",
      "Epoch 71/100\n",
      "36/36 - 0s - loss: 0.3129 - accuracy: 0.8279 - val_loss: 0.3121 - val_accuracy: 0.8412 - 62ms/epoch - 2ms/step\n",
      "Epoch 72/100\n",
      "36/36 - 0s - loss: 0.3127 - accuracy: 0.8248 - val_loss: 0.3208 - val_accuracy: 0.7987 - 58ms/epoch - 2ms/step\n",
      "Epoch 73/100\n",
      "36/36 - 0s - loss: 0.3095 - accuracy: 0.8268 - val_loss: 0.3236 - val_accuracy: 0.8098 - 61ms/epoch - 2ms/step\n",
      "Epoch 74/100\n",
      "36/36 - 0s - loss: 0.3071 - accuracy: 0.8329 - val_loss: 0.3132 - val_accuracy: 0.8300 - 60ms/epoch - 2ms/step\n",
      "Epoch 75/100\n",
      "36/36 - 0s - loss: 0.3101 - accuracy: 0.8284 - val_loss: 0.3180 - val_accuracy: 0.8121 - 59ms/epoch - 2ms/step\n",
      "Epoch 76/100\n",
      "36/36 - 0s - loss: 0.3107 - accuracy: 0.8282 - val_loss: 0.3132 - val_accuracy: 0.8255 - 60ms/epoch - 2ms/step\n",
      "Epoch 77/100\n",
      "36/36 - 0s - loss: 0.3090 - accuracy: 0.8321 - val_loss: 0.3144 - val_accuracy: 0.8143 - 60ms/epoch - 2ms/step\n",
      "Epoch 78/100\n",
      "36/36 - 0s - loss: 0.3064 - accuracy: 0.8329 - val_loss: 0.3213 - val_accuracy: 0.8076 - 58ms/epoch - 2ms/step\n",
      "Epoch 79/100\n",
      "36/36 - 0s - loss: 0.3090 - accuracy: 0.8346 - val_loss: 0.3135 - val_accuracy: 0.8121 - 61ms/epoch - 2ms/step\n",
      "Epoch 80/100\n",
      "36/36 - 0s - loss: 0.3071 - accuracy: 0.8338 - val_loss: 0.3175 - val_accuracy: 0.8076 - 61ms/epoch - 2ms/step\n",
      "Epoch 81/100\n",
      "36/36 - 0s - loss: 0.3083 - accuracy: 0.8312 - val_loss: 0.3085 - val_accuracy: 0.8322 - 62ms/epoch - 2ms/step\n",
      "Epoch 82/100\n",
      "36/36 - 0s - loss: 0.3074 - accuracy: 0.8351 - val_loss: 0.3171 - val_accuracy: 0.8255 - 54ms/epoch - 1ms/step\n",
      "Epoch 83/100\n",
      "36/36 - 0s - loss: 0.3088 - accuracy: 0.8318 - val_loss: 0.3232 - val_accuracy: 0.8054 - 52ms/epoch - 1ms/step\n",
      "Epoch 84/100\n",
      "36/36 - 0s - loss: 0.3071 - accuracy: 0.8335 - val_loss: 0.3166 - val_accuracy: 0.8300 - 52ms/epoch - 1ms/step\n",
      "Epoch 85/100\n",
      "36/36 - 0s - loss: 0.3064 - accuracy: 0.8382 - val_loss: 0.3247 - val_accuracy: 0.8098 - 52ms/epoch - 1ms/step\n",
      "Epoch 86/100\n",
      "36/36 - 0s - loss: 0.3081 - accuracy: 0.8287 - val_loss: 0.3125 - val_accuracy: 0.8233 - 51ms/epoch - 1ms/step\n",
      "Epoch 87/100\n",
      "36/36 - 0s - loss: 0.3053 - accuracy: 0.8321 - val_loss: 0.3145 - val_accuracy: 0.8076 - 55ms/epoch - 2ms/step\n",
      "Epoch 88/100\n",
      "36/36 - 0s - loss: 0.3058 - accuracy: 0.8338 - val_loss: 0.3125 - val_accuracy: 0.8345 - 62ms/epoch - 2ms/step\n",
      "Epoch 89/100\n",
      "36/36 - 0s - loss: 0.3064 - accuracy: 0.8329 - val_loss: 0.3267 - val_accuracy: 0.8121 - 60ms/epoch - 2ms/step\n",
      "Epoch 90/100\n",
      "36/36 - 0s - loss: 0.3094 - accuracy: 0.8310 - val_loss: 0.3237 - val_accuracy: 0.8054 - 60ms/epoch - 2ms/step\n",
      "Epoch 91/100\n",
      "36/36 - 0s - loss: 0.3074 - accuracy: 0.8301 - val_loss: 0.3095 - val_accuracy: 0.8367 - 59ms/epoch - 2ms/step\n",
      "Epoch 92/100\n",
      "36/36 - 0s - loss: 0.3067 - accuracy: 0.8304 - val_loss: 0.3174 - val_accuracy: 0.8076 - 62ms/epoch - 2ms/step\n",
      "Epoch 93/100\n",
      "36/36 - 0s - loss: 0.3040 - accuracy: 0.8338 - val_loss: 0.3136 - val_accuracy: 0.8031 - 60ms/epoch - 2ms/step\n",
      "Epoch 94/100\n",
      "36/36 - 0s - loss: 0.3084 - accuracy: 0.8287 - val_loss: 0.3100 - val_accuracy: 0.8300 - 58ms/epoch - 2ms/step\n",
      "Epoch 95/100\n",
      "36/36 - 0s - loss: 0.3104 - accuracy: 0.8293 - val_loss: 0.3134 - val_accuracy: 0.8076 - 60ms/epoch - 2ms/step\n",
      "Epoch 96/100\n",
      "36/36 - 0s - loss: 0.3057 - accuracy: 0.8287 - val_loss: 0.3283 - val_accuracy: 0.7987 - 60ms/epoch - 2ms/step\n",
      "Epoch 97/100\n",
      "36/36 - 0s - loss: 0.3088 - accuracy: 0.8282 - val_loss: 0.3164 - val_accuracy: 0.7987 - 60ms/epoch - 2ms/step\n",
      "Epoch 98/100\n",
      "36/36 - 0s - loss: 0.3053 - accuracy: 0.8324 - val_loss: 0.3125 - val_accuracy: 0.8255 - 64ms/epoch - 2ms/step\n",
      "Epoch 99/100\n",
      "36/36 - 0s - loss: 0.3051 - accuracy: 0.8326 - val_loss: 0.3197 - val_accuracy: 0.8076 - 67ms/epoch - 2ms/step\n",
      "Epoch 100/100\n",
      "36/36 - 0s - loss: 0.3038 - accuracy: 0.8310 - val_loss: 0.3146 - val_accuracy: 0.8098 - 57ms/epoch - 2ms/step\n"
     ]
    },
    {
     "data": {
      "text/plain": [
       "<keras.callbacks.History at 0x1d2dab20ac0>"
      ]
     },
     "execution_count": 21,
     "metadata": {},
     "output_type": "execute_result"
    }
   ],
   "source": [
    "epochSize = 100\n",
    "batch_size =100\n",
    "\n",
    "model.fit( trainInputs ,\n",
    "           trainTargets ,\n",
    "           batch_size=batch_size,\n",
    "           epochs=epochSize ,\n",
    "           validation_data=(validInputs, validTargets) ,\n",
    "           verbose=2)"
   ]
  },
  {
   "cell_type": "markdown",
   "id": "350d930f",
   "metadata": {},
   "source": [
    "sometimes our validation loss increase. So, we are overfitting. Therefore, we should use the early stopping mechanism.\n",
    "\n",
    "\n",
    "callbacks are functions called by a task when a task is completed. The task here is to check if val_loss is increasing"
   ]
  },
  {
   "cell_type": "code",
   "execution_count": 22,
   "id": "8e0af07e",
   "metadata": {},
   "outputs": [],
   "source": [
    "early_stopping = tf.keras.callbacks.EarlyStopping()"
   ]
  },
  {
   "cell_type": "code",
   "execution_count": 23,
   "id": "f19275a7",
   "metadata": {},
   "outputs": [
    {
     "name": "stdout",
     "output_type": "stream",
     "text": [
      "Epoch 1/100\n",
      "36/36 - 0s - loss: 0.3058 - accuracy: 0.8265 - val_loss: 0.3109 - val_accuracy: 0.8233 - 90ms/epoch - 2ms/step\n",
      "Epoch 2/100\n",
      "36/36 - 0s - loss: 0.3040 - accuracy: 0.8374 - val_loss: 0.3240 - val_accuracy: 0.8009 - 63ms/epoch - 2ms/step\n"
     ]
    },
    {
     "data": {
      "text/plain": [
       "<keras.callbacks.History at 0x1d2dd0937c0>"
      ]
     },
     "execution_count": 23,
     "metadata": {},
     "output_type": "execute_result"
    }
   ],
   "source": [
    "model.fit( trainInputs ,\n",
    "           trainTargets ,\n",
    "           batch_size=batch_size,\n",
    "           epochs=epochSize ,\n",
    "           validation_data=(validInputs, validTargets) ,\n",
    "           verbose=2,\n",
    "           callbacks=[early_stopping]\n",
    "         )"
   ]
  },
  {
   "cell_type": "code",
   "execution_count": 24,
   "id": "e97251a2",
   "metadata": {
    "scrolled": false
   },
   "outputs": [
    {
     "name": "stdout",
     "output_type": "stream",
     "text": [
      "Epoch 1/100\n",
      "36/36 - 0s - loss: 0.3059 - accuracy: 0.8298 - val_loss: 0.3114 - val_accuracy: 0.8076 - 103ms/epoch - 3ms/step\n",
      "Epoch 2/100\n",
      "36/36 - 0s - loss: 0.3043 - accuracy: 0.8324 - val_loss: 0.3235 - val_accuracy: 0.8054 - 64ms/epoch - 2ms/step\n",
      "Epoch 3/100\n",
      "36/36 - 0s - loss: 0.3071 - accuracy: 0.8340 - val_loss: 0.3152 - val_accuracy: 0.8031 - 63ms/epoch - 2ms/step\n",
      "Epoch 4/100\n",
      "36/36 - 0s - loss: 0.3039 - accuracy: 0.8324 - val_loss: 0.3223 - val_accuracy: 0.8054 - 60ms/epoch - 2ms/step\n",
      "Epoch 5/100\n",
      "36/36 - 0s - loss: 0.3054 - accuracy: 0.8293 - val_loss: 0.3136 - val_accuracy: 0.8210 - 62ms/epoch - 2ms/step\n",
      "Epoch 6/100\n",
      "36/36 - 0s - loss: 0.3022 - accuracy: 0.8318 - val_loss: 0.3199 - val_accuracy: 0.8009 - 62ms/epoch - 2ms/step\n"
     ]
    },
    {
     "data": {
      "text/plain": [
       "<keras.callbacks.History at 0x1d2dd1098b0>"
      ]
     },
     "execution_count": 24,
     "metadata": {},
     "output_type": "execute_result"
    }
   ],
   "source": [
    "early_stopping = tf.keras.callbacks.EarlyStopping(patience=5)\n",
    "model.fit( trainInputs ,\n",
    "           trainTargets ,\n",
    "           batch_size=batch_size,\n",
    "           epochs=epochSize ,\n",
    "           validation_data=(validInputs, validTargets) ,\n",
    "           verbose=2,\n",
    "           callbacks=[early_stopping]\n",
    "         )"
   ]
  },
  {
   "cell_type": "markdown",
   "id": "d1c74fe6",
   "metadata": {},
   "source": [
    "## Test the model"
   ]
  },
  {
   "cell_type": "code",
   "execution_count": 25,
   "id": "a209abb4",
   "metadata": {},
   "outputs": [
    {
     "name": "stdout",
     "output_type": "stream",
     "text": [
      "14/14 [==============================] - 0s 1ms/step - loss: 0.3012 - accuracy: 0.8348\n",
      "Test loss of our model is: 0.30. And our Test accuracy is: 83.48%\n"
     ]
    }
   ],
   "source": [
    "testLoss , testAccuracy = model.evaluate(testInputs,testTargets)\n",
    "print('Test loss of our model is: {0:.2f}. And our Test accuracy is: {1:.2f}%'.format(testLoss, testAccuracy*100.))"
   ]
  }
 ],
 "metadata": {
  "kernelspec": {
   "display_name": "TF",
   "language": "python",
   "name": "tf"
  },
  "language_info": {
   "codemirror_mode": {
    "name": "ipython",
    "version": 3
   },
   "file_extension": ".py",
   "mimetype": "text/x-python",
   "name": "python",
   "nbconvert_exporter": "python",
   "pygments_lexer": "ipython3",
   "version": "3.9.17"
  }
 },
 "nbformat": 4,
 "nbformat_minor": 5
}
